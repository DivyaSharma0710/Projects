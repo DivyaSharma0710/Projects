{
 "cells": [
  {
   "cell_type": "code",
   "execution_count": 1,
   "metadata": {},
   "outputs": [],
   "source": [
    "from IPython.display import clear_output\n",
    "def display_board(board):\n",
    "        clear_output()\n",
    "        print(board[7], '|',board[8],'|',board[9])\n",
    "        print(\" _ _ _ \")\n",
    "        print(board[4],'|',board[5],'|',board[6])\n",
    "        print(\" _ _ _ \")\n",
    "        print(board[1],'|',board[2],'|',board[3])    "
   ]
  },
  {
   "cell_type": "code",
   "execution_count": 2,
   "metadata": {},
   "outputs": [],
   "source": [
    "def player_input():\n",
    "    marker=''\n",
    "    while marker !='X' or marker !='O':\n",
    "        choice=input(\"Player1 Choose X or O\").upper()\n",
    "        if marker == 'X':\n",
    "             return ('X','O')        \n",
    "        else:\n",
    "             return('O','X')\n",
    "    "
   ]
  },
  {
   "cell_type": "code",
   "execution_count": 3,
   "metadata": {},
   "outputs": [],
   "source": [
    "def place_marker(board,position,marker):\n",
    "        board[position]=marker"
   ]
  },
  {
   "cell_type": "code",
   "execution_count": 4,
   "metadata": {},
   "outputs": [],
   "source": [
    "def space_check(board,position):\n",
    "    return board[position] == ''\n"
   ]
  },
  {
   "cell_type": "code",
   "execution_count": 5,
   "metadata": {},
   "outputs": [],
   "source": [
    "def full_board_check(board):\n",
    "    for i in range(1,10):\n",
    "        if space_check(board,i):\n",
    "            return False\n",
    "        \n",
    "    return True        "
   ]
  },
  {
   "cell_type": "code",
   "execution_count": 6,
   "metadata": {},
   "outputs": [],
   "source": [
    "def  player_choice(board):\n",
    "    p=0\n",
    "    while p not in [1,2,3,4,5,6,7,8,9] or not  space_check(board,p):\n",
    "           p=int(input('Choose a position: (1-9)'))\n",
    "    return p\n",
    "    "
   ]
  },
  {
   "cell_type": "code",
   "execution_count": 7,
   "metadata": {},
   "outputs": [],
   "source": [
    "def replay():\n",
    "            choice =input(\"Do you want play again?(Y/N)\").upper()\n",
    "    \n",
    "            return choice=='Y'\n",
    "\n",
    "\n",
    "    "
   ]
  },
  {
   "cell_type": "code",
   "execution_count": 8,
   "metadata": {},
   "outputs": [],
   "source": [
    "def   win_check(board,mark):\n",
    "    return(\n",
    "           (board[7] == board[8] == board[9] == mark) \n",
    "        or (board[4] == board[5] == board[6] == mark) \n",
    "        or (board[1] == board[2] == board[3] == mark) \n",
    "        or (board[7] == board[5] == board[3] == mark) \n",
    "        or (board[9] == board[6] == board[3] == mark)\n",
    "        or (board[7] == board[4] == board[1] == mark)\n",
    "        or (board[8] == board[5] == board[2] == mark)\n",
    "           )\n"
   ]
  },
  {
   "cell_type": "code",
   "execution_count": 9,
   "metadata": {},
   "outputs": [],
   "source": [
    "import random\n",
    "def choose_first():\n",
    "        n=random.randint(0,1)\n",
    "        if n==0:\n",
    "            return 'Player 1'\n",
    "        else:\n",
    "            return 'Player 2'"
   ]
  },
  {
   "cell_type": "code",
   "execution_count": 10,
   "metadata": {},
   "outputs": [],
   "source": [
    "def game():\n",
    "    print('Welcome to Tic Tac Toe')\n",
    "    \n",
    "    while True:\n",
    "        \n",
    "#         Set Everything UP(Board,Who go first,Choose Markers X,O)\n",
    "        board=['']*10\n",
    "        player1_marker,player2_marker=player_input()\n",
    "        turn= choose_first()\n",
    "        print(turn +'will go first')\n",
    "        play_game=input('Ready to play? y or n ?').upper()\n",
    "        if play_game =='Y':\n",
    "            game_on = True\n",
    "        else:\n",
    "            game_on=  False\n",
    "            \n",
    "        #Game Play\n",
    "        while game_on:\n",
    "\n",
    "            if turn == 'Player 1':\n",
    "#              Show the board\n",
    "                display_board(board)\n",
    "              \n",
    "#             Choose a position\n",
    "                position=player_choice(board)\n",
    "#             Place the marker on the position\n",
    "                place_marker(board,position,player1_marker)\n",
    "                display_board(board)\n",
    "#             Check if they win\n",
    "                if win_check(board,player1_marker):\n",
    "                         display_board(board)\n",
    "                         print('PLAYER 1 HAS WON!!')\n",
    "                         game_on = False\n",
    "                else:\n",
    "                        if full_board_check(board):\n",
    "                            display(board)\n",
    "                            print('TIE GAME')\n",
    "                            game_on = False\n",
    "                        else:\n",
    "                            turn='Player 2'\n",
    "           \n",
    "            else:\n",
    "# Show the board\n",
    "                display_board(board)\n",
    "        \n",
    "# Choose a position\n",
    "                position=player_choice(board)\n",
    "    \n",
    "# Place the marker on the position\n",
    "                place_marker(board,position,player2_marker)\n",
    "                display_board(board)\n",
    "                \n",
    "    \n",
    "# Check if they win\n",
    "                if win_check(board,player2_marker):\n",
    "                         display_board(board)\n",
    "                         \n",
    "                         print('PLAYER 2 HAS WON!!')\n",
    "                         game_on = False\n",
    "                else:\n",
    "                        if full_board_check(board):\n",
    "                            display_board(board)\n",
    "                            print('TIE GAME')\n",
    "                            game_on = False\n",
    "                        else:\n",
    "                            turn='Player 1'\n",
    "                \n",
    "                \n",
    "        \n",
    "        \n",
    "        \n",
    "        \n",
    "        if not replay():\n",
    "            break\n",
    "            \n",
    "    \n"
   ]
  },
  {
   "cell_type": "code",
   "execution_count": 11,
   "metadata": {},
   "outputs": [
    {
     "name": "stdout",
     "output_type": "stream",
     "text": [
      " | O | X\n",
      " _ _ _ \n",
      " | O | X\n",
      " _ _ _ \n",
      " | O | \n",
      "PLAYER 1 HAS WON!!\n",
      "Do you want play again?(Y/N)N\n"
     ]
    }
   ],
   "source": [
    "game()"
   ]
  },
  {
   "cell_type": "code",
   "execution_count": null,
   "metadata": {},
   "outputs": [],
   "source": []
  },
  {
   "cell_type": "code",
   "execution_count": null,
   "metadata": {},
   "outputs": [],
   "source": []
  },
  {
   "cell_type": "code",
   "execution_count": null,
   "metadata": {},
   "outputs": [],
   "source": []
  },
  {
   "cell_type": "code",
   "execution_count": null,
   "metadata": {},
   "outputs": [],
   "source": []
  },
  {
   "cell_type": "code",
   "execution_count": null,
   "metadata": {},
   "outputs": [],
   "source": []
  }
 ],
 "metadata": {
  "kernelspec": {
   "display_name": "Python 3",
   "language": "python",
   "name": "python3"
  },
  "language_info": {
   "codemirror_mode": {
    "name": "ipython",
    "version": 3
   },
   "file_extension": ".py",
   "mimetype": "text/x-python",
   "name": "python",
   "nbconvert_exporter": "python",
   "pygments_lexer": "ipython3",
   "version": "3.8.5"
  }
 },
 "nbformat": 4,
 "nbformat_minor": 4
}
